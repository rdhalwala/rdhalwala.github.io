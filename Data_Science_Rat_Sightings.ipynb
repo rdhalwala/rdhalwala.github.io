{
  "nbformat": 4,
  "nbformat_minor": 0,
  "metadata": {
    "colab": {
      "provenance": [],
      "include_colab_link": true
    },
    "kernelspec": {
      "name": "python3",
      "display_name": "Python 3"
    },
    "language_info": {
      "name": "python"
    }
  },
  "cells": [
    {
      "cell_type": "markdown",
      "metadata": {
        "id": "view-in-github",
        "colab_type": "text"
      },
      "source": [
        "<a href=\"https://colab.research.google.com/github/rdhalwala/rdhalwala.github.io/blob/main/Data_Science_Rat_Sightings.ipynb\" target=\"_parent\"><img src=\"https://colab.research.google.com/assets/colab-badge.svg\" alt=\"Open In Colab\"/></a>"
      ]
    },
    {
      "cell_type": "code",
      "execution_count": null,
      "metadata": {
        "id": "9ZXP5UbmAuak"
      },
      "outputs": [],
      "source": [
        "#import pandas and other stuff"
      ]
    },
    {
      "cell_type": "markdown",
      "source": [
        "# Project Goals\n",
        "The team, Miranda Diaz and Raiya Dhawala will likely be investigating data sets related to rat sightings in New York City and how they have been affected by COVID-19 and the introduction of the “rat czar”.\n"
      ],
      "metadata": {
        "id": "9mn1AJs7AbjI"
      }
    },
    {
      "cell_type": "markdown",
      "source": [
        "  # Project Dataset\n",
        "  The data set we are considering working with is [Rat Sightings](https://data.cityofnewyork.us/Social-Services/Rat-Sightings/3q43-55fe). This data set contains information on rat sightings in New York City from 2012 to present day based on service requests made by the community. The data is from [311 service requests](https://data.cityofnewyork.us/Social-Services/311-Service-Requests-from-2010-to-Present/erm2-nwe9). Each row is different rat sighting with a unique key, which describes the unique identifier of the Service Request and in theory a different rat, although there is no way to be sure. Some columns describe the address, the date, the streets, the landmark and the borough of where each rat was seen. There is also a column which shows when the service request was created. We can use this to divide rat sightings by month or year. We were interested in using this data set because it provides data that can be relevant when answering different questions, such as, “How have rat sightings been affected by the introduction of the rat czar Kathleen Corradi.” and “How have right sightings increased or decreased in different boroughs since COVID-19”. Some further data may need to be brought in to assess COVID-19 numbers in different New York City neighborhoods. Also, further data could look at the population of different neighborhoods, and whether certain neighborhoods make more 311 requests than others.\n"
      ],
      "metadata": {
        "id": "UzS84CN7Aqq5"
      }
    },
    {
      "cell_type": "markdown",
      "source": [
        "# Collaboration Plan\n",
        "Our collaboration plan is to meet ____ to work on the final project. We will be communicating through text messages to keep each other updated and organized.\n",
        "\n",
        "##Include rest"
      ],
      "metadata": {
        "id": "QuWysOxRBU9I"
      }
    },
    {
      "cell_type": "markdown",
      "source": [
        "# ETL (Extraction, Transform, and Load)\n",
        "We loaded our dataset into the dataset folder. This dataset originally has 38 columns showing things such as the date the request was created, the agency name, the location (including neighborhood and address), and the status of the complaint. The original data included various descriptors of location including latitude, longitude, and cross streets. We tidied the data by getting rid of the repetitive location columns such as cross street 1 and 2, and only keeping the incident address and neighborhood. We created a month, year column and set it as the index.\n",
        "\n"
      ],
      "metadata": {
        "id": "5m0BMBM1CZfR"
      }
    },
    {
      "cell_type": "code",
      "source": [
        "''' -Import data\n",
        "-Get rid of unnecessary location columns\n",
        "-Display that for milestone 1\n",
        "-Make column with (month, year) tuple from created date column make this index\n",
        "-display count from each year (this shows how many rats were reported each year)\n",
        "-could also display by month number of sightings in 2020 (covid year)\n",
        "-make graph with number of sightings over time '''\n"
      ],
      "metadata": {
        "id": "CVtA9w7qChVD"
      },
      "execution_count": null,
      "outputs": []
    }
  ]
}